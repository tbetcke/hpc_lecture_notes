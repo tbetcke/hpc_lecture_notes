{
 "cells": [
  {
   "cell_type": "markdown",
   "metadata": {},
   "source": [
    "# Assignment 4\n",
    "\n",
    "**Deadline: Friday 18 December, 10am**."
   ]
  },
  {
   "cell_type": "markdown",
   "metadata": {},
   "source": [
    "Consider a square plate with sides $[-1, 1]\\times [-1, 1]$. At time $t = 0$ we are heating the plate up such that the temperature is $u=5$ on one side and $u=0$ on the other sides. The temperature evolves according to $u_t=\\Delta u$. At what time $t^*$ does the plate reach $u=1$ at the center of the plate? Implement a finite difference scheme and try with explicit and implicit time-stepping. By increasing the number of discretisation points demonstrate how many correct digits you can achieve. Show convincing benchmark experiments. Think about your implementation (you need not use GPU programming if you don't want to) and how you want to present your results. An efficient implementation is worth 50%. The other 50% are focused on good and convincing presentation. Hint: To 12 digits the wanted solution is $t^* = 0.424011387033$."
   ]
  }
 ],
 "metadata": {
  "kernelspec": {
   "display_name": "Python [conda env:dev] *",
   "language": "python",
   "name": "conda-env-dev-py"
  },
  "language_info": {
   "codemirror_mode": {
    "name": "ipython",
    "version": 3
   },
   "file_extension": ".py",
   "mimetype": "text/x-python",
   "name": "python",
   "nbconvert_exporter": "python",
   "pygments_lexer": "ipython3",
   "version": "3.8.5"
  }
 },
 "nbformat": 4,
 "nbformat_minor": 4
}
