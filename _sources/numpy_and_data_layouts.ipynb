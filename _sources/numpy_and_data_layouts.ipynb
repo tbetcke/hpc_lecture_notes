{
 "cells": [
  {
   "cell_type": "markdown",
   "metadata": {},
   "source": [
    "# Memory layout and Numpy arrays"
   ]
  },
  {
   "cell_type": "markdown",
   "metadata": {},
   "source": [
    "## Memory layouts"
   ]
  },
  {
   "cell_type": "markdown",
   "metadata": {},
   "source": [
    "We can imagine memory as a linear collection of consecutive memory addresses (each one representing one byte).\n",
    "\n",
    "\n",
    "![Byte array in memory](./img/byte_array.png)"
   ]
  },
  {
   "cell_type": "markdown",
   "metadata": {},
   "source": [
    "The key to efficient data representations is to order data spatially local in memory. This means that the data we want to work on next should be as close to our current data as possible. The reason is that memory accesses in modern computers are extremely expensive compared to actual computations. In order to alleviate this problem all modern CPUs rely on sophisticated caches that try to read data ahead of time from the memory. This works only if the next pieces of data are close to the data that we are currently working on.\n",
    "\n",
    "Standard Python list types do not guarantee this locality. List elements can be at very different memory addresses, making standard lists are other base Python types unsuitable for numerical operations. What we require is a buffer type that guarantees us a chunk of consecutive addresses in the system memory.\n",
    "\n",
    "What happens if we have a matrix? Consider a 2 x 2 matrix\n",
    "\n",
    "$$\n",
    "A = \\begin{bmatrix} 1 & 2\\\\ 3 & 4\\end{bmatrix}\n",
    "$$\n",
    "\n",
    "We have two ways of ordering this matrix across the memory band\n",
    "\n",
    "* **C-Style ordering:** This aligns the matrix row by row in memory. Hence, our memory buffer will have four elements that read\n",
    "\n",
    "$$\n",
    "1, 2, 3, 4\n",
    "$$\n",
    "\n",
    "* **Fortran Style ordering:** This aligns the matrix column by column in memory. Our memory buffer will now have four elements that read\n",
    "\n",
    "$$\n",
    "1, 3, 2, 4\n",
    "$$\n",
    "\n",
    "Both memory layout styles are used across scientific computing, and it is important to know what the assumed layout in a given numerical library is. Ignoring data layouts leads to inefficiency if code has to translate on the fly between the layouts, or even bugs if the layout differences are ignored by a library."
   ]
  },
  {
   "cell_type": "markdown",
   "metadata": {},
   "source": [
    "## Numpy to the rescue"
   ]
  },
  {
   "cell_type": "markdown",
   "metadata": {},
   "source": [
    "[Numpy](https://numpy.org/) solves all these problems by providing an array type that reserves consecutive chunks of memory and allows the user to transparently map data onto this chunk of memory, either using C-style ordering (default), or Fortran-style ordering (optional). Numpy also guarantees that operations between arrays of different orderings are executed correctly (although we should avoid this). Numpy has long established as the de facto standard for array types in Python. Indeed, many other libraries have taken over the Numpy syntax and conventions to make their data types interoperate nicely with Numpy.\n",
    "\n",
    "**Numpy is a major reason for the large success of Python.**\n",
    "\n",
    "Very recently an associated [Numpy paper](https://www.nature.com/articles/s41586-020-2649-2) was published in Nature, something very rare for a software library and demonstrating how fundamental Numpy has become to any kind of science that relies on data processing. Most of these operations are implemented by calling natively into accelerated BLAS/Lapack functions."
   ]
  },
  {
   "cell_type": "markdown",
   "metadata": {},
   "source": [
    "## BLAS and Lapack"
   ]
  },
  {
   "cell_type": "markdown",
   "metadata": {},
   "source": [
    "[BLAS (Basic Linear Algebra Subroutines)](http://www.netlib.org/blas/) defines a set of interfaces to standard linear algebra functions. There are three BLAS Variantes, Level 1, 2, and 3.\n",
    "\n",
    "* BLAS Level 1 defines functions that require $O(n)$ computational complexity ($n$ is the number of element), such as vector addition, multiplication with scalars or dot products.\n",
    "* BLAS Level 2 defines functions that require $O(n^2)$ computational complexity, such as matrix-vector products, or triangular solves.\n",
    "* BLAS Level 3 defines functions that require $O(n^3)$ computational complexity, of which the most important one is the matrix-matrix product.\n",
    "\n",
    "There exists a reference BLAS implementation from http://www.netlib.org. However, this should never be used in practice. The key to fast BLAS operations are implementations that optimally use the CPU Cache architecture to minimize data transfer delays. There exist a number of BLAS libraries that are optimised for modern CPUs, and do not only exploit caching but also SIMD acceleration and multi-core processing (we will discuss these topics later). Examples of such libraries are [Intel MKL](https://software.intel.com/content/www/us/en/develop/tools/math-kernel-library.html), [Openblas](https://www.openblas.net/) or [BLIS](https://github.com/flame/blis).\n",
    "\n",
    "[Lapack](http://netlib.org/lapack) is a library of advanced linear algebra functions such as linear system solves, eigenvalue problems, singular values, least-squares problems, etc., that make use of BLAS. Lapack routines are highly optimised to use matrix-matrix Level-3 BLAS operations whenever possible. The reason is memory efficiency. The ratio of computational complexity to memory complexity for matrix-matrix products is $O(n^3)$ to $O(n^2)$. Hence, for larger problems we have far more operations than memory accesses, which is what we want as memory accesses are slow.\n",
    "\n",
    "Numpy links against available BLAS and Lapack libraries to make sure to have the most efficient implementations of linear algebra operations available. If Numpy is installed from conda-forge, then by default the Openblas library is used. Alternatively, one can also use Intel MKL.\n",
    "\n",
    "\n"
   ]
  },
  {
   "cell_type": "markdown",
   "metadata": {},
   "source": [
    "## Getting started in Numpy"
   ]
  },
  {
   "cell_type": "markdown",
   "metadata": {},
   "source": [
    "To get started we import Numpy."
   ]
  },
  {
   "cell_type": "code",
   "execution_count": 16,
   "metadata": {},
   "outputs": [],
   "source": [
    "import numpy as np"
   ]
  },
  {
   "cell_type": "markdown",
   "metadata": {},
   "source": [
    "The basic data type in Numpy is the array. The following creates a double precision array with three entries."
   ]
  },
  {
   "cell_type": "code",
   "execution_count": 19,
   "metadata": {},
   "outputs": [],
   "source": [
    "a = np.array([3.5, 4, 18.1], dtype='float64')"
   ]
  },
  {
   "cell_type": "markdown",
   "metadata": {},
   "source": [
    "The parameter `dtype=\"float64\"` is not necessary here as Numpy automatically recognizes that the list contains two floating point numbers and therefore uses a 64 bit floating point number (double precision) as default type. To use single precision use ``dtype=float32``. A list of available types can be found [here](https://numpy.org/devdocs/user/basics.types.html)."
   ]
  },
  {
   "cell_type": "markdown",
   "metadata": {},
   "source": [
    "Below are some ways to create an array with Numpy."
   ]
  },
  {
   "cell_type": "code",
   "execution_count": 20,
   "metadata": {},
   "outputs": [],
   "source": [
    "a_random = np.random.rand(10) # A random array with 10 components\n",
    "a_ones = np.ones((10, 10), dtype='float64') # A 10x10 matrix of ones, stored as double precision (float64) type\n",
    "a_zeros = np.zeros(((10, 10, 10)), dtype='complex128') # A complex three dim. Tensor with all entries set to zero.\n",
    "a_empty = np.empty(50, dtype='byte') # An unitialized byte array that can store 50 bytes.\n",
    "a_range = np.arange(50) # The first 50 integers, starting at 0."
   ]
  },
  {
   "cell_type": "markdown",
   "metadata": {},
   "source": [
    "We can easily access the shape of an array"
   ]
  },
  {
   "cell_type": "code",
   "execution_count": 21,
   "metadata": {},
   "outputs": [
    {
     "name": "stdout",
     "output_type": "stream",
     "text": [
      "(50,)\n",
      "(10, 10, 10)\n"
     ]
    }
   ],
   "source": [
    "print(a_range.shape)\n",
    "print(a_zeros.shape)"
   ]
  },
  {
   "cell_type": "markdown",
   "metadata": {},
   "source": [
    "Accessing elements is easy."
   ]
  },
  {
   "cell_type": "code",
   "execution_count": 22,
   "metadata": {},
   "outputs": [
    {
     "data": {
      "text/plain": [
       "0.968195988006513"
      ]
     },
     "execution_count": 22,
     "metadata": {},
     "output_type": "execute_result"
    }
   ],
   "source": [
    "a_random[0] # Element 0"
   ]
  },
  {
   "cell_type": "code",
   "execution_count": 4,
   "metadata": {},
   "outputs": [
    {
     "data": {
      "text/plain": [
       "array([0.40009539, 0.71934764])"
      ]
     },
     "execution_count": 4,
     "metadata": {},
     "output_type": "execute_result"
    }
   ],
   "source": [
    "a_random[:2] # The first two elements "
   ]
  },
  {
   "cell_type": "code",
   "execution_count": 5,
   "metadata": {},
   "outputs": [
    {
     "data": {
      "text/plain": [
       "array([0.5445252, 0.4253604])"
      ]
     },
     "execution_count": 5,
     "metadata": {},
     "output_type": "execute_result"
    }
   ],
   "source": [
    "a_random[-2:] # The last two elements"
   ]
  },
  {
   "cell_type": "code",
   "execution_count": 6,
   "metadata": {},
   "outputs": [
    {
     "data": {
      "text/plain": [
       "array([[1., 1., 1.],\n",
       "       [1., 1., 1.],\n",
       "       [1., 1., 1.]])"
      ]
     },
     "execution_count": 6,
     "metadata": {},
     "output_type": "execute_result"
    }
   ],
   "source": [
    "a_ones[:3, 2:5] # The third to fifth column in the first three rows"
   ]
  },
  {
   "cell_type": "code",
   "execution_count": 7,
   "metadata": {},
   "outputs": [
    {
     "data": {
      "text/plain": [
       "0j"
      ]
     },
     "execution_count": 7,
     "metadata": {},
     "output_type": "execute_result"
    }
   ],
   "source": [
    "a_zeros[3, 2, 1] # The element with indices (3, 2, 1)"
   ]
  },
  {
   "cell_type": "markdown",
   "metadata": {},
   "source": [
    "Assigning elements works similarly."
   ]
  },
  {
   "cell_type": "code",
   "execution_count": 23,
   "metadata": {},
   "outputs": [
    {
     "name": "stdout",
     "output_type": "stream",
     "text": [
      "[[ 1.  1.  1.  1.  0.  1.  1.  1.  1.  1.]\n",
      " [ 1.  1.  1.  1.  1.  1.  1.  1.  1.  1.]\n",
      " [ 1.  1.  1.  1.  2.  1.  1.  1.  1.  1.]\n",
      " [ 1.  1.  1. 10.  3.  1.  1.  1.  1.  1.]\n",
      " [ 1.  1.  1.  1.  4.  1.  1.  1.  1.  1.]\n",
      " [ 1.  1.  1.  1.  5.  1.  1.  1.  1.  1.]\n",
      " [ 1.  1.  1.  1.  6.  1.  1.  1.  1.  1.]\n",
      " [ 1.  1.  1.  1.  7.  1.  1.  1.  1.  1.]\n",
      " [10. 10. 10. 10. 10. 10. 10. 10. 10. 10.]\n",
      " [ 1.  1.  1.  1.  9.  1.  1.  1.  1.  1.]]\n"
     ]
    }
   ],
   "source": [
    "a_ones[3, 3] = 10\n",
    "a_ones[:, 4] = np.arange(10)\n",
    "a_ones[8] = 10 # This sets the whole of row 8 to the entry 10\n",
    "print(a_ones)"
   ]
  },
  {
   "cell_type": "markdown",
   "metadata": {},
   "source": [
    "Together with Matplotlib we can easily plot data."
   ]
  },
  {
   "cell_type": "code",
   "execution_count": 24,
   "metadata": {},
   "outputs": [
    {
     "data": {
      "image/png": "[encoded data removed]",
      "text/plain": [
       "<Figure size 432x288 with 1 Axes>"
      ]
     },
     "metadata": {
      "needs_background": "light"
     },
     "output_type": "display_data"
    }
   ],
   "source": [
    "%matplotlib inline\n",
    "from matplotlib import pyplot as plt\n",
    "\n",
    "x = np.linspace(-10, 10, 10000)\n",
    "y = np.exp(-x**2)\n",
    "plt.plot(x, y)\n",
    "plt.xlabel('x')\n",
    "plt.ylabel('exp(-x^2)')\n",
    "plt.show()"
   ]
  },
  {
   "cell_type": "markdown",
   "metadata": {},
   "source": [
    "Matrix/Matrix and Matrix/vector products in Numpy are executed as follows:"
   ]
  },
  {
   "cell_type": "code",
   "execution_count": 26,
   "metadata": {},
   "outputs": [],
   "source": [
    "A = np.random.randn(100, 100)\n",
    "B = np.random.randn(100, 100)\n",
    "\n",
    "C = A @ B # Product of the matrices A and B"
   ]
  },
  {
   "cell_type": "markdown",
   "metadata": {},
   "source": [
    "Note that the componentwise product of two matrices is written as `C = A * B` and has nothing to do with the matrix/matrix product."
   ]
  },
  {
   "cell_type": "markdown",
   "metadata": {},
   "source": [
    "Numpy can also solve Linear systems of equations and perform other higher order matrix operations.\n",
    "To solve a linear system of equations, the following can be used."
   ]
  },
  {
   "cell_type": "code",
   "execution_count": 28,
   "metadata": {},
   "outputs": [],
   "source": [
    "A = np.random.rand(1000, 1000)\n",
    "b = np.random.rand(1000)\n",
    "x = np.linalg.solve(A, b)"
   ]
  },
  {
   "cell_type": "markdown",
   "metadata": {},
   "source": [
    "We can easily compute the relative residual of this solve as"
   ]
  },
  {
   "cell_type": "code",
   "execution_count": 33,
   "metadata": {},
   "outputs": [
    {
     "name": "stdout",
     "output_type": "stream",
     "text": [
      "1.9058815227064712e-16\n"
     ]
    }
   ],
   "source": [
    "residual = np.linalg.norm(b - A @ x) / (np.linalg.norm(A) * np.linalg.norm(x))\n",
    "print(residual)"
   ]
  },
  {
   "cell_type": "markdown",
   "metadata": {},
   "source": [
    "The system was solved with an accuracy close to machine precision."
   ]
  },
  {
   "cell_type": "markdown",
   "metadata": {},
   "source": [
    "This was just a small sample of Numpy functions. For a more comprehensive introduction check out the [Numpy user guide](https://numpy.org/devdocs/user/index.html)"
   ]
  }
 ],
 "metadata": {
  "kernelspec": {
   "display_name": "Python 3",
   "language": "python",
   "name": "python3"
  },
  "language_info": {
   "codemirror_mode": {
    "name": "ipython",
    "version": 3
   },
   "file_extension": ".py",
   "mimetype": "text/x-python",
   "name": "python",
   "nbconvert_exporter": "python",
   "pygments_lexer": "ipython3",
   "version": "3.8.5"
  }
 },
 "nbformat": 4,
 "nbformat_minor": 4
}
