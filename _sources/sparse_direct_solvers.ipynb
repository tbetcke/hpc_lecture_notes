{
 "cells": [
  {
   "cell_type": "markdown",
   "metadata": {},
   "source": [
    "# Sparse Direct Solvers"
   ]
  },
  {
   "cell_type": "markdown",
   "metadata": {},
   "source": [
    "## Introduction"
   ]
  },
  {
   "cell_type": "markdown",
   "metadata": {},
   "source": [
    "So far we have considered iterative solvers for the solution of large linear systems of equations. These are efficient as long as the underlying linear operator is well conditioned or if there is an efficient preconditioner available.\n",
    "\n",
    "We now want to return to direct solvers and consider how we can use them for the solution of large sparse linear systems of equations. We assume that we want to solve\n",
    "\n",
    "$$\n",
    "Ax=b\n",
    "$$\n",
    "\n",
    "with $A\\in\\mathbb{R}^{n\\times n}$ a given sparse matrix and $b \\in\\mathbb{R}^n$ a right-hand side vector. While for iterative solvers we only needed the action of $A$ and therefore did not require an explicit representation. Here, we now require an explicit representation of $A$."
   ]
  },
  {
   "cell_type": "markdown",
   "metadata": {},
   "source": [
    "Let us review some basic facts on the direct solution of dense linear systems of equations."
   ]
  },
  {
   "cell_type": "markdown",
   "metadata": {},
   "source": [
    "## Solving dense linear systems of equations"
   ]
  },
  {
   "cell_type": "markdown",
   "metadata": {},
   "source": [
    "The most frequently used method for solving dense linear systems of equations is the LU decomposition. The basic idea is to find a transform \n",
    "\n",
    "$$\n",
    "PA = LU,\n",
    "$$\n",
    "\n",
    "where $P$ is a permutation matrix (each row and column consist of only one $1$ entry and zeros otherwise), $L$ is a lower triangular matrix with all ones on the diagonal, and $R$ is an upper triangular matrix.\n",
    "\n",
    "This decomposition can be obtained through Gaussian Elimination. Below you find a very simple Python implementation of this method."
   ]
  },
  {
   "cell_type": "code",
   "execution_count": 35,
   "metadata": {},
   "outputs": [],
   "source": [
    "import numpy as np\n",
    "\n",
    "def lu(A):\n",
    "    \"\"\"\n",
    "    Implementation of a pivoted LU decomposition.\n",
    "    \n",
    "    Returns matrices P, L, U, such that\n",
    "    PA = LU.\n",
    "    \"\"\"\n",
    "    \n",
    "    import numpy as np\n",
    "    \n",
    "    # Return an error if matrix is not square\n",
    "    if not A.shape[0]==A.shape[1]:\n",
    "        raise ValueError(\"Input matrix must be square\")\n",
    "        \n",
    "    n = A.shape[0] # The number of rows/columns of A\n",
    "    p = np.arange(n) # The permutation vector\n",
    "    \n",
    "    L = np.zeros((n,n),dtype='float64') # Reserve space for L\n",
    "    U = np.zeros((n,n),dtype='float64') # Reserve space for U\n",
    "    U[:] = A # Copy A into U as we do not want to modify A\n",
    "    np.fill_diagonal(L,1) # fill the diagonal of L with 1\n",
    "    \n",
    "    for i in range(n-1):\n",
    "        # The outer iteration\n",
    "        # Permute the rows to ensure the element with largest magnitude is on top\n",
    "        max_index = i+np.argmax(np.abs(U[i:,i]))\n",
    "        U[[i,max_index],:] = U[[max_index,i],:]\n",
    "        L[[i,max_index],:i] = L[[max_index,i],:i]\n",
    "        p[[i,max_index]] = p[[max_index,i]]\n",
    "        for j in range(i+1,n):\n",
    "            L[j,i] = U[j,i]/U[i,i]\n",
    "            U[j,i:] = U[j,i:]-L[j,i]*U[i,i:]\n",
    "            U[j,i] = 0\n",
    "    P = np.eye(n)[p,:] \n",
    "    return (P,L,U)\n"
   ]
  },
  {
   "cell_type": "markdown",
   "metadata": {},
   "source": [
    "Let us try this out."
   ]
  },
  {
   "cell_type": "code",
   "execution_count": 36,
   "metadata": {},
   "outputs": [
    {
     "name": "stdout",
     "output_type": "stream",
     "text": [
      "The relative residual is 4.889527314145724e-16.\n"
     ]
    }
   ],
   "source": [
    "rand = np.random.RandomState(0)\n",
    "n = 50\n",
    "A = rand.randn(n, n)\n",
    "P, L, U, = lu(A)\n",
    "rel_residual = np.linalg.norm (P @ A - L @ U) / np.linalg.norm(A)\n",
    "print(f\"The relative residual is {rel_residual}.\")"
   ]
  },
  {
   "cell_type": "markdown",
   "metadata": {},
   "source": [
    "The above implementation is quite straight forward. It uses Gaussian elimination to eliminate the entries below the diagonal in the current column and updates the rows accordingly. For numerical stability it applies partial pivoting. This strategy sorts the row with the largest (by magnitude) entry in the current column to the top of the current block.\n",
    "\n",
    "Once we have the LU decomposition we can easily solve the linear system of equations $Ax = b$. We replace $PA = LU$ and obtain $LU = Pb$, which we solve in two steps. First we perform a forward substitution to solve the lower-triangular system $Ly = Pb$. Then we perform a backward substitution to solve the linear system $Ux = y$.\n",
    "\n",
    "An example code is given below. Instead of implementing the triangular solve we use the corresponding method from Scipy."
   ]
  },
  {
   "cell_type": "code",
   "execution_count": 37,
   "metadata": {},
   "outputs": [
    {
     "name": "stdout",
     "output_type": "stream",
     "text": [
      "Residual with partial pivot LU: 1.7431488527611673e-14.\n"
     ]
    }
   ],
   "source": [
    "from scipy.linalg import solve_triangular\n",
    "\n",
    "b = rand.randn(n)\n",
    "x = solve_triangular(\n",
    "    U, solve_triangular(L, P @ b, lower=True))\n",
    "print(f\"Residual with partial pivot LU: {np.linalg.norm(b - A @ x) / np.linalg.norm(b)}.\")\n"
   ]
  },
  {
   "cell_type": "markdown",
   "metadata": {},
   "source": [
    "This is in principal what the `solve` commands in Numpy and Scipy are doing for dense linear system of equations. However, they use the corresponding Lapack routines, which are highly efficient cache-optimised implementations. **One should never use a custom LU implementation for dense systems, but always use the corresponding Lapack routines**. We have given the implementation above only for demonstrational purposes.\n",
    "\n",
    "The complexity of dense LU decomposition is $\\frac{2}{3}n^3 + \\mathcal{O}(n^2)$. The forward and backward substitution have quadratic complexity. Hence, this method is without modification not suitable for large systems of equations."
   ]
  },
  {
   "cell_type": "markdown",
   "metadata": {},
   "source": [
    "## LU Decomposition for systems of equations with small bandwidth"
   ]
  },
  {
   "cell_type": "markdown",
   "metadata": {},
   "source": [
    "Let us consider the example of the following tridiagonal matrix."
   ]
  },
  {
   "cell_type": "code",
   "execution_count": 38,
   "metadata": {},
   "outputs": [],
   "source": [
    "import numpy as np\n",
    "from scipy.sparse import diags\n",
    "n = 20\n",
    "\n",
    "data = [4. * np.ones(n),\n",
    "        -2. * np.ones(n - 1),\n",
    "        -1. * np.ones(n - 1)]\n",
    "\n",
    "offsets = [0, 1, -1]\n",
    "\n",
    "A = diags(data, offsets=offsets, shape=(n, n), format='csr').todense()"
   ]
  },
  {
   "cell_type": "code",
   "execution_count": 40,
   "metadata": {},
   "outputs": [
    {
     "data": {
      "text/plain": [
       "<matplotlib.image.AxesImage at 0x7fd41d9f2640>"
      ]
     },
     "execution_count": 40,
     "metadata": {},
     "output_type": "execute_result"
    },
    {
     "data": {
      "image/png": "[encoded data removed]",
      "text/plain": [
       "<Figure size 432x288 with 1 Axes>"
      ]
     },
     "metadata": {
      "needs_background": "light"
     },
     "output_type": "display_data"
    }
   ],
   "source": [
    "%matplotlib inline\n",
    "from matplotlib import pyplot as plt\n",
    "\n",
    "plt.spy(A)"
   ]
  },
  {
   "cell_type": "markdown",
   "metadata": {},
   "source": [
    "We compute the LU factors and visualize them."
   ]
  },
  {
   "cell_type": "code",
   "execution_count": 7,
   "metadata": {},
   "outputs": [
    {
     "data": {
      "image/png": "[encoded data removed]",
      "text/plain": [
       "<Figure size 1512x576 with 3 Axes>"
      ]
     },
     "metadata": {
      "needs_background": "light"
     },
     "output_type": "display_data"
    }
   ],
   "source": [
    "%matplotlib inline\n",
    "from matplotlib import pyplot as plt\n",
    "from scipy.linalg import lu\n",
    "\n",
    "P, L, U = lu(A)\n",
    "\n",
    "fig = plt.figure(figsize = (21, 8))\n",
    "ax1 = fig.add_subplot(131)\n",
    "im1 = ax1.spy(P)\n",
    "ax1.set_title('P')\n",
    "ax2 = fig.add_subplot(132)\n",
    "ax2.spy(L)\n",
    "ax2.set_title('L')\n",
    "ax3 = fig.add_subplot(133)\n",
    "ax3.spy(U)\n",
    "ax3.set_title('U');"
   ]
  },
  {
   "cell_type": "markdown",
   "metadata": {},
   "source": [
    "The permutation matrix P is just the identity. The diagonal was chosen on purpose to achieve this and avoid reordering. We can see that while the original matrix was tridiagonal, the L matrix now is lower bidiagonal and the upper U matrix is upper bidiagonal. This is no coincidence. One can see quite easily from the way that Gaussian elimination proceeds that the bandwidth of a matrix remains constant. Let us make this statement precise.\n",
    "\n",
    "**Banded matrix.** A matrix $A$ is called banded if there exists two nonnegative integers $m_U$ and $m_L$ such that $a_{ij} \\neq 0$ only for $i-m_L\\leq j\\leq i + m_U$. The total bandwidth is given as $m=m_L + m_U + 1$.\n",
    "\n",
    "Banded matrices have a wonderful property, namely the LU decomposition does not increase the bandwidth $m$. In particular, the lower bandwidth $m_L$ of $A$ is the same as the lower bandwidth of $L$ and the upper bandwidth $m_U$ of $A$ is the same as the upper bandwidth of $U$.\n",
    "\n",
    "If we have a sequence of banded matrices $A_n$ with constant bandwidth (e.g. from the discretisation of a PDE with increasing numbers of discretisation points), the LU decomposition has linear complexity $O(n)$, where the factors in the $O$-notation depend on the bandwidth. Hence, LU decomposition is a highly efficient solver for problems with small bandwidth if the zero structure is taken into account, that is operations are avoided on entries that are known to be zero."
   ]
  },
  {
   "cell_type": "markdown",
   "metadata": {},
   "source": [
    "## Matrices with arrow structure"
   ]
  },
  {
   "cell_type": "markdown",
   "metadata": {},
   "source": [
    "Another example of matrices, for which the LU decomposition is highly efficient, are matrices with certain arrow structures. Consider the following example."
   ]
  },
  {
   "cell_type": "code",
   "execution_count": 41,
   "metadata": {},
   "outputs": [
    {
     "data": {
      "text/plain": [
       "<matplotlib.image.AxesImage at 0x7fd41ddeb2e0>"
      ]
     },
     "execution_count": 41,
     "metadata": {},
     "output_type": "execute_result"
    },
    {
     "data": {
      "image/png": "[encoded data removed]",
      "text/plain": [
       "<Figure size 1440x576 with 2 Axes>"
      ]
     },
     "metadata": {
      "needs_background": "light"
     },
     "output_type": "display_data"
    }
   ],
   "source": [
    "n = 20\n",
    "\n",
    "A = np.diag(np.ones(n, dtype=np.float64))\n",
    "A[-1, :] = .5\n",
    "A[:, -1] = .5\n",
    "\n",
    "fig = plt.figure(figsize=(20, 8))\n",
    "ax1 = fig.add_subplot(121)\n",
    "ax1.spy(A)\n",
    "\n",
    "reversal = np.flip(np.arange(n))\n",
    "Apermuted = A[reversal, :][:, reversal]\n",
    "\n",
    "ax2 = fig.add_subplot(122)\n",
    "ax2.spy(Apermuted)\n"
   ]
  },
  {
   "cell_type": "markdown",
   "metadata": {},
   "source": [
    "It is immediately clear that the left matrix has an efficient LU decomposition. We only need to reduce the last row via Gaussian elimination and we do not introduce any fill-in. On the other hand, the right-hand side matrix is a simple permutation of the left-matrix, obtained by relabelling the unknowns (e.g. $0\\rightarrow 9$, $1\\rightarrow 8$, etc.). Although the matrix is different now, the underlying linear system does not change in principle. The unknowns have just been relabelled and equation order changed. However, if we apply the LU decomposition to the right matrix, both $L$ and $U$ will fill up completely."
   ]
  },
  {
   "cell_type": "markdown",
   "metadata": {},
   "source": [
    "## Reordering methods for sparse Gaussian Elimination"
   ]
  },
  {
   "cell_type": "markdown",
   "metadata": {},
   "source": [
    "In practice, the difficulty with sparse direct solvers is to achieve a reordering that minimizes fill-in (that is creation of new nonzero elements) from the LU decomposition applied to the sparse matrix. Over time a number of heuristic reordering methods have been developed that aim to reduce the fill-in during the Gaussian Elimination phase, such as Cuthil-McKeee, Reverse Cuthill-McKee or Minimal Degree Reorderings. Most sparse solvers include reordering steps by default. So it is rarely necessary to think about it. But sometimes it may be necessary to squeeze out slightly better performance by changing the reordering method."
   ]
  },
  {
   "cell_type": "markdown",
   "metadata": {},
   "source": [
    "## Limits of sparse direct solvers"
   ]
  },
  {
   "cell_type": "markdown",
   "metadata": {},
   "source": [
    "The performance of sparse direct solvers strongly depends on the adjacency graph (the adjacency graph is a representation of the connnectivity in the sparse matrix). Generally, for one dimensional and many two dimensional PDE discretisations sparse direct solvers can be used very efficiently. Usually, the heuristic reordering methods do a good job of minimizing fill-in with good results for the overall time and memory complexity. Three-dimensional PDE discretisations can be more problematic. In three dimensions we have significantly more intricate connectivity between unknowns and sparse direct solvers quickly become infeasible even with good reordering."
   ]
  },
  {
   "cell_type": "markdown",
   "metadata": {},
   "source": [
    "## Incomplete LU Decomposition"
   ]
  },
  {
   "cell_type": "markdown",
   "metadata": {},
   "source": [
    "It is possible to combine ideas from the LU decomposition and iterative solvers. If a complete LU decomposition is too expensive we may still be able to perform an incomplete LU decomposition. The idea is to heuristically reduce the generated fill-in through the course of the LU decomposition by using a dropping criterion. The difficulty with the incomplete LU decomposition is that it may lead to a singular approximate decomposition. In the following example we use the ILU applied to the matrix $A$ from the `discretise_poisson` example to demonstrate how it can be used as a preconditioner."
   ]
  },
  {
   "cell_type": "code",
   "execution_count": 43,
   "metadata": {},
   "outputs": [],
   "source": [
    "import numpy as np\n",
    "from scipy.sparse import coo_matrix\n",
    "\n",
    "def discretise_poisson(N):\n",
    "    \"\"\"Generate the matrix and rhs associated with the discrete Poisson operator.\"\"\"\n",
    "    \n",
    "    nelements = 5 * N**2 - 16 * N + 16\n",
    "    \n",
    "    row_ind = np.empty(nelements, dtype=np.float64)\n",
    "    col_ind = np.empty(nelements, dtype=np.float64)\n",
    "    data = np.empty(nelements, dtype=np.float64)\n",
    "    \n",
    "    f = np.empty(N * N, dtype=np.float64)\n",
    "    \n",
    "    count = 0\n",
    "    for j in range(N):\n",
    "        for i in range(N):\n",
    "            if i == 0 or i == N - 1 or j == 0 or j == N - 1:\n",
    "                row_ind[count] = col_ind[count] = j * N + i\n",
    "                data[count] =  1\n",
    "                f[j * N + i] = 0\n",
    "                count += 1\n",
    "                \n",
    "            else:\n",
    "                row_ind[count : count + 5] = j * N + i\n",
    "                col_ind[count] = j * N + i\n",
    "                col_ind[count + 1] = j * N + i + 1\n",
    "                col_ind[count + 2] = j * N + i - 1\n",
    "                col_ind[count + 3] = (j + 1) * N + i\n",
    "                col_ind[count + 4] = (j - 1) * N + i\n",
    "                                \n",
    "                data[count] = 4 * (N - 1)**2\n",
    "                data[count + 1 : count + 5] = - (N - 1)**2\n",
    "                f[j * N + i] = 1\n",
    "                \n",
    "                count += 5\n",
    "                                                \n",
    "    return coo_matrix((data, (row_ind, col_ind)), shape=(N**2, N**2)).tocsr(), f"
   ]
  },
  {
   "cell_type": "markdown",
   "metadata": {},
   "source": [
    "The following code solves the Poisson problem with $N=100$ using GMRES, once with preconditioning and once without preconditioning."
   ]
  },
  {
   "cell_type": "code",
   "execution_count": 46,
   "metadata": {},
   "outputs": [
    {
     "data": {
      "image/png": "[encoded data removed]",
      "text/plain": [
       "<Figure size 1440x576 with 2 Axes>"
      ]
     },
     "metadata": {
      "needs_background": "light"
     },
     "output_type": "display_data"
    }
   ],
   "source": [
    "from scipy.sparse.linalg import spilu, LinearOperator, gmres\n",
    "\n",
    "N = 100\n",
    "A, f = discretise_poisson(N)\n",
    "\n",
    "M = LinearOperator(matvec=spilu(A, fill_factor=20, drop_rule='dynamic').solve,\n",
    "                   shape=(N**2, N**2), \n",
    "                   dtype=np.float64)\n",
    "\n",
    "residuals1 = []\n",
    "callback1 = lambda res: residuals1.append(res) \n",
    "x, _ = gmres(A, f, callback=callback1, callback_type='pr_norm')\n",
    "\n",
    "\n",
    "residuals2 = []\n",
    "callback2 = lambda res: residuals2.append(res) \n",
    "x, _ = gmres(A, f, M=M, callback=callback2, callback_type='pr_norm')\n",
    "\n",
    "fig = plt.figure(figsize=(20, 8))\n",
    "ax1 = fig.add_subplot(121)\n",
    "ax1.semilogy(residuals1)\n",
    "ax1.set_title('No preconditioning')\n",
    "ax1.set_xlabel('iteration count')\n",
    "ax1.set_ylabel('relative residual')\n",
    "\n",
    "ax2 = fig.add_subplot(122)\n",
    "ax2.semilogy(residuals2)\n",
    "ax2.set_title('ILU Preconditioning')\n",
    "ax2.set_xlabel('iteration count')\n",
    "ax2.set_ylabel('relative residual');"
   ]
  },
  {
   "cell_type": "markdown",
   "metadata": {},
   "source": [
    "ILU Preconditioning has lead to a dramatic improvement. We now convergence in just 10 iterations. However, generating the ILU Preconditioner can be tricky as it easily leads to a singular incomplete factorisation.\n",
    "For certain classes of problems good ILU strategies are known and have been analysed. Then, ILU is an excellent and powerful tool to combine ideas from direct and iterative solvers."
   ]
  }
 ],
 "metadata": {
  "kernelspec": {
   "display_name": "Python [conda env:dev] *",
   "language": "python",
   "name": "conda-env-dev-py"
  },
  "language_info": {
   "codemirror_mode": {
    "name": "ipython",
    "version": 3
   },
   "file_extension": ".py",
   "mimetype": "text/x-python",
   "name": "python",
   "nbconvert_exporter": "python",
   "pygments_lexer": "ipython3",
   "version": "3.8.5"
  }
 },
 "nbformat": 4,
 "nbformat_minor": 4
}
